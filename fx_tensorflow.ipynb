{
 "cells": [
  {
   "cell_type": "code",
   "execution_count": 2,
   "metadata": {
    "collapsed": false
   },
   "outputs": [],
   "source": [
    "%matplotlib inline\n",
    "import pandas as pd\n",
    "import numpy as np\n",
    "\n",
    "import fxtool as ft\n"
   ]
  },
  {
   "cell_type": "code",
   "execution_count": 3,
   "metadata": {
    "collapsed": false
   },
   "outputs": [],
   "source": [
    "def get_change_list(data, rate_type=\"Close\"):\n",
    "    '''\n",
    "    Args:\n",
    "        data: pd.DataFrame()\n",
    "        rate_type: str\n",
    "    Returns:\n",
    "        list\n",
    "    '''\n",
    "    \n",
    "    pre_rate = 1\n",
    "    change_list = []\n",
    "    for rate in data[rate_type]:\n",
    "        change = np.log(rate/pre_rate)\n",
    "        if change <= 1:\n",
    "            change_list.append(change)\n",
    "        else : \n",
    "            change_list.append(None)\n",
    "        pre_rate = rate\n",
    "    return change_list"
   ]
  },
  {
   "cell_type": "code",
   "execution_count": 4,
   "metadata": {
    "collapsed": false
   },
   "outputs": [
    {
     "name": "stdout",
     "output_type": "stream",
     "text": [
      "201506\n"
     ]
    }
   ],
   "source": [
    "data = ft.read_csv([\"201506\"])"
   ]
  },
  {
   "cell_type": "code",
   "execution_count": 30,
   "metadata": {
    "collapsed": false,
    "scrolled": true
   },
   "outputs": [
    {
     "data": {
      "text/html": [
       "<div>\n",
       "<table border=\"1\" class=\"dataframe\">\n",
       "  <thead>\n",
       "    <tr style=\"text-align: right;\">\n",
       "      <th></th>\n",
       "      <th>change_1</th>\n",
       "      <th>change_2</th>\n",
       "      <th>change_3</th>\n",
       "    </tr>\n",
       "  </thead>\n",
       "  <tbody>\n",
       "    <tr>\n",
       "      <th>count</th>\n",
       "      <td>413.000000</td>\n",
       "      <td>413.000000</td>\n",
       "      <td>413.000000</td>\n",
       "    </tr>\n",
       "    <tr>\n",
       "      <th>mean</th>\n",
       "      <td>-0.000004</td>\n",
       "      <td>-0.000004</td>\n",
       "      <td>-0.000009</td>\n",
       "    </tr>\n",
       "    <tr>\n",
       "      <th>std</th>\n",
       "      <td>0.001208</td>\n",
       "      <td>0.001208</td>\n",
       "      <td>0.001206</td>\n",
       "    </tr>\n",
       "    <tr>\n",
       "      <th>min</th>\n",
       "      <td>-0.012475</td>\n",
       "      <td>-0.012475</td>\n",
       "      <td>-0.012475</td>\n",
       "    </tr>\n",
       "    <tr>\n",
       "      <th>25%</th>\n",
       "      <td>-0.000396</td>\n",
       "      <td>-0.000396</td>\n",
       "      <td>-0.000396</td>\n",
       "    </tr>\n",
       "    <tr>\n",
       "      <th>50%</th>\n",
       "      <td>0.000073</td>\n",
       "      <td>0.000073</td>\n",
       "      <td>0.000065</td>\n",
       "    </tr>\n",
       "    <tr>\n",
       "      <th>75%</th>\n",
       "      <td>0.000484</td>\n",
       "      <td>0.000484</td>\n",
       "      <td>0.000475</td>\n",
       "    </tr>\n",
       "    <tr>\n",
       "      <th>max</th>\n",
       "      <td>0.007165</td>\n",
       "      <td>0.007165</td>\n",
       "      <td>0.007165</td>\n",
       "    </tr>\n",
       "  </tbody>\n",
       "</table>\n",
       "</div>"
      ],
      "text/plain": [
       "         change_1    change_2    change_3\n",
       "count  413.000000  413.000000  413.000000\n",
       "mean    -0.000004   -0.000004   -0.000009\n",
       "std      0.001208    0.001208    0.001206\n",
       "min     -0.012475   -0.012475   -0.012475\n",
       "25%     -0.000396   -0.000396   -0.000396\n",
       "50%      0.000073    0.000073    0.000065\n",
       "75%      0.000484    0.000484    0.000475\n",
       "max      0.007165    0.007165    0.007165"
      ]
     },
     "execution_count": 30,
     "metadata": {},
     "output_type": "execute_result"
    }
   ],
   "source": [
    "ohlc = ft.get_ohlc(data, 'H')\n",
    "#ohlc = data \n",
    "change_list = get_change_list(ohlc)\n",
    "ohlc[\"Change(Close)\"] = change_list\n",
    "\n",
    "ohlc['change_positive'] = 0\n",
    "ohlc.ix[ohlc['Change(Close)'] >= 0, 'change_positive'] = 1\n",
    "ohlc['change_negative'] = 0\n",
    "ohlc.ix[ohlc['Change(Close)'] < 0, 'change_negative'] = 1\n",
    "\n",
    "training_test_data = pd.DataFrame(\n",
    "  columns=[\n",
    "    'change_positive', \n",
    "    'change_negative',\n",
    "    'change_1', \n",
    "    'change_2', \n",
    "    'change_3',\n",
    "    ]\n",
    ")\n",
    "\n",
    "for i in range(7, len(ohlc)):\n",
    "    change_positive = ohlc['change_positive'].ix[i]\n",
    "    change_negative = ohlc['change_negative'].ix[i]\n",
    "    change_1 = ohlc['Change(Close)'].ix[i-1]\n",
    "    change_2 = ohlc['Change(Close)'].ix[i-2]\n",
    "    change_3 = ohlc['Change(Close)'].ix[i-3]\n",
    "    \n",
    "    training_test_data = training_test_data.append(\n",
    "        {\n",
    "            'change_positive': change_positive,\n",
    "            'change_negative': change_negative,\n",
    "            'change_1': change_1,\n",
    "            'change_2': change_2,\n",
    "            'change_3': change_3\n",
    "        },\n",
    "        ignore_index=True\n",
    "    )\n",
    "\n",
    "training_test_data\n",
    "\n",
    "\n",
    "predictors_tf = training_test_data[training_test_data.columns[2:]]\n",
    "\n",
    "classes_tf = training_test_data[training_test_data.columns[:2]]\n",
    "\n",
    "training_set_size = int(len(training_test_data) * 0.8)\n",
    "test_set_size = len(training_test_data) - training_set_size\n",
    "\n",
    "training_predictors_tf = predictors_tf[:training_set_size]\n",
    "training_classes_tf = classes_tf[:training_set_size]\n",
    "test_predictors_tf = predictors_tf[training_set_size:]\n",
    "test_classes_tf = classes_tf[training_set_size:]\n",
    "\n",
    "\n",
    "training_predictors_tf.describe()"
   ]
  },
  {
   "cell_type": "code",
   "execution_count": 36,
   "metadata": {
    "collapsed": false
   },
   "outputs": [
    {
     "name": "stdout",
     "output_type": "stream",
     "text": [
      "num_predictor: 3\n",
      "num_classes: 2\n",
      "Tensor(\"Relu_3:0\", shape=(?, 50), dtype=float32)\n"
     ]
    }
   ],
   "source": [
    "import tensorflow as tf\n",
    "\n",
    "sess1 = tf.Session()\n",
    "\n",
    "num_predictors = len(training_predictors_tf.columns)\n",
    "num_classes = len(training_classes_tf.columns)\n",
    "print(\"num_predictor: {}\".format( num_predictors))\n",
    "print(\"num_classes: {}\".format( num_classes))\n",
    "\n",
    "feature_data = tf.placeholder(\"float\", [None, num_predictors])\n",
    "actual_classes = tf.placeholder(\"float\", [None, num_classes])\n",
    "\n",
    "weights1 = tf.Variable(tf.truncated_normal([num_predictors, 50], stddev=0.0001))\n",
    "biases1 = tf.Variable(tf.ones([50]))\n",
    "\n",
    "weights2 = tf.Variable(tf.truncated_normal([50, 25], stddev=0.0001))\n",
    "biases2 = tf.Variable(tf.ones([25]))\n",
    "                     \n",
    "weights3 = tf.Variable(tf.truncated_normal([25, 2], stddev=0.0001))\n",
    "biases3 = tf.Variable(tf.ones([2]))\n",
    "\n",
    "# This time we introduce a single hidden layer into our model...\n",
    "hidden_layer_1 = tf.nn.relu(tf.matmul(feature_data, weights1) + biases1)\n",
    "hidden_layer_2 = tf.nn.relu(tf.matmul(hidden_layer_1, weights2) + biases2)\n",
    "model = tf.nn.softmax(tf.matmul(hidden_layer_2, weights3) + biases3)\n",
    "\n",
    "cost = -tf.reduce_sum(actual_classes*tf.log(model))\n",
    "\n",
    "train_op1 = tf.train.AdamOptimizer(learning_rate=0.0001).minimize(cost)\n",
    "\n",
    "init = tf.initialize_all_variables()\n",
    "sess1.run(init)"
   ]
  },
  {
   "cell_type": "code",
   "execution_count": 40,
   "metadata": {
    "collapsed": false
   },
   "outputs": [
    {
     "name": "stdout",
     "output_type": "stream",
     "text": [
      "5000 :0.5714285969734192\n",
      "10000 :0.5690072774887085\n",
      "15000 :0.5762711763381958\n",
      "20000 :0.5690072774887085\n",
      "25000 :0.5714285969734192\n",
      "30000 :0.5714285969734192\n",
      "35000 :0.5714285969734192\n",
      "40000 :0.5714285969734192\n",
      "45000 :0.5714285969734192\n"
     ]
    },
    {
     "ename": "KeyboardInterrupt",
     "evalue": "",
     "output_type": "error",
     "traceback": [
      "\u001b[0;31m---------------------------------------------------------------------------\u001b[0m",
      "\u001b[0;31mKeyboardInterrupt\u001b[0m                         Traceback (most recent call last)",
      "\u001b[0;32m<ipython-input-40-d0da016f629a>\u001b[0m in \u001b[0;36m<module>\u001b[0;34m()\u001b[0m\n\u001b[1;32m      7\u001b[0m     feed_dict={\n\u001b[1;32m      8\u001b[0m       \u001b[0mfeature_data\u001b[0m\u001b[0;34m:\u001b[0m \u001b[0mtraining_predictors_tf\u001b[0m\u001b[0;34m.\u001b[0m\u001b[0mvalues\u001b[0m\u001b[0;34m,\u001b[0m\u001b[0;34m\u001b[0m\u001b[0m\n\u001b[0;32m----> 9\u001b[0;31m       \u001b[0mactual_classes\u001b[0m\u001b[0;34m:\u001b[0m \u001b[0mtraining_classes_tf\u001b[0m\u001b[0;34m.\u001b[0m\u001b[0mvalues\u001b[0m\u001b[0;34m.\u001b[0m\u001b[0mreshape\u001b[0m\u001b[0;34m(\u001b[0m\u001b[0mlen\u001b[0m\u001b[0;34m(\u001b[0m\u001b[0mtraining_classes_tf\u001b[0m\u001b[0;34m.\u001b[0m\u001b[0mvalues\u001b[0m\u001b[0;34m)\u001b[0m\u001b[0;34m,\u001b[0m \u001b[0;36m2\u001b[0m\u001b[0;34m)\u001b[0m\u001b[0;34m\u001b[0m\u001b[0m\n\u001b[0m\u001b[1;32m     10\u001b[0m     }\n\u001b[1;32m     11\u001b[0m   )\n",
      "\u001b[0;32m/usr/local/lib/python3.5/dist-packages/tensorflow/python/client/session.py\u001b[0m in \u001b[0;36mrun\u001b[0;34m(self, fetches, feed_dict, options, run_metadata)\u001b[0m\n\u001b[1;32m    370\u001b[0m     \u001b[0;32mtry\u001b[0m\u001b[0;34m:\u001b[0m\u001b[0;34m\u001b[0m\u001b[0m\n\u001b[1;32m    371\u001b[0m       result = self._run(None, fetches, feed_dict, options_ptr,\n\u001b[0;32m--> 372\u001b[0;31m                          run_metadata_ptr)\n\u001b[0m\u001b[1;32m    373\u001b[0m       \u001b[0;32mif\u001b[0m \u001b[0mrun_metadata\u001b[0m\u001b[0;34m:\u001b[0m\u001b[0;34m\u001b[0m\u001b[0m\n\u001b[1;32m    374\u001b[0m         \u001b[0mproto_data\u001b[0m \u001b[0;34m=\u001b[0m \u001b[0mtf_session\u001b[0m\u001b[0;34m.\u001b[0m\u001b[0mTF_GetBuffer\u001b[0m\u001b[0;34m(\u001b[0m\u001b[0mrun_metadata_ptr\u001b[0m\u001b[0;34m)\u001b[0m\u001b[0;34m\u001b[0m\u001b[0m\n",
      "\u001b[0;32m/usr/local/lib/python3.5/dist-packages/tensorflow/python/client/session.py\u001b[0m in \u001b[0;36m_run\u001b[0;34m(self, handle, fetches, feed_dict, options, run_metadata)\u001b[0m\n\u001b[1;32m    608\u001b[0m                             'strings, lists, or numpy ndarrays.')\n\u001b[1;32m    609\u001b[0m \u001b[0;34m\u001b[0m\u001b[0m\n\u001b[0;32m--> 610\u001b[0;31m           \u001b[0msubfeed_dtype\u001b[0m \u001b[0;34m=\u001b[0m \u001b[0msubfeed_t\u001b[0m\u001b[0;34m.\u001b[0m\u001b[0mdtype\u001b[0m\u001b[0;34m.\u001b[0m\u001b[0mas_numpy_dtype\u001b[0m\u001b[0;34m\u001b[0m\u001b[0m\n\u001b[0m\u001b[1;32m    611\u001b[0m           if isinstance(subfeed_val,\n\u001b[1;32m    612\u001b[0m                         int) and subfeed_dtype(subfeed_val) != subfeed_val:\n",
      "\u001b[0;32m/usr/local/lib/python3.5/dist-packages/tensorflow/python/framework/dtypes.py\u001b[0m in \u001b[0;36mas_numpy_dtype\u001b[0;34m(self)\u001b[0m\n\u001b[1;32m    130\u001b[0m       \u001b[0;32mreturn\u001b[0m \u001b[0mself\u001b[0m\u001b[0;34m\u001b[0m\u001b[0m\n\u001b[1;32m    131\u001b[0m \u001b[0;34m\u001b[0m\u001b[0m\n\u001b[0;32m--> 132\u001b[0;31m   \u001b[0;34m@\u001b[0m\u001b[0mproperty\u001b[0m\u001b[0;34m\u001b[0m\u001b[0m\n\u001b[0m\u001b[1;32m    133\u001b[0m   \u001b[0;32mdef\u001b[0m \u001b[0mas_numpy_dtype\u001b[0m\u001b[0;34m(\u001b[0m\u001b[0mself\u001b[0m\u001b[0;34m)\u001b[0m\u001b[0;34m:\u001b[0m\u001b[0;34m\u001b[0m\u001b[0m\n\u001b[1;32m    134\u001b[0m     \u001b[0;34m\"\"\"Returns a `numpy.dtype` based on this `DType`.\"\"\"\u001b[0m\u001b[0;34m\u001b[0m\u001b[0m\n",
      "\u001b[0;31mKeyboardInterrupt\u001b[0m: "
     ]
    }
   ],
   "source": [
    "correct_prediction = tf.equal(tf.argmax(model, 1), tf.argmax(actual_classes, 1))\n",
    "accuracy = tf.reduce_mean(tf.cast(correct_prediction, \"float\"))\n",
    "\n",
    "for i in range(1, 300001):\n",
    "  sess1.run(\n",
    "    train_op1, \n",
    "    feed_dict={\n",
    "      feature_data: training_predictors_tf.values, \n",
    "      actual_classes: training_classes_tf.values.reshape(len(training_classes_tf.values), 2)\n",
    "    }\n",
    "  )\n",
    "  if i%5000 == 0:\n",
    "    print( \"{} :{}\".format(i, sess1.run(\n",
    "      accuracy,\n",
    "      feed_dict={\n",
    "        feature_data: training_predictors_tf.values, \n",
    "        actual_classes: training_classes_tf.values.reshape(len(training_classes_tf.values), 2)\n",
    "      }\n",
    "    )))"
   ]
  },
  {
   "cell_type": "code",
   "execution_count": null,
   "metadata": {
    "collapsed": true
   },
   "outputs": [],
   "source": []
  }
 ],
 "metadata": {
  "kernelspec": {
   "display_name": "Python 3",
   "language": "python",
   "name": "python3"
  },
  "language_info": {
   "codemirror_mode": {
    "name": "ipython",
    "version": 3
   },
   "file_extension": ".py",
   "mimetype": "text/x-python",
   "name": "python",
   "nbconvert_exporter": "python",
   "pygments_lexer": "ipython3",
   "version": "3.5.1+"
  }
 },
 "nbformat": 4,
 "nbformat_minor": 0
}
