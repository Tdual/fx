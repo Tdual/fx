{
 "cells": [
  {
   "cell_type": "code",
   "execution_count": 1,
   "metadata": {
    "collapsed": false
   },
   "outputs": [],
   "source": [
    "%matplotlib inline\n",
    "import pandas as pd\n",
    "import numpy as np\n",
    "\n",
    "import fxtool as ft\n"
   ]
  },
  {
   "cell_type": "code",
   "execution_count": 26,
   "metadata": {
    "collapsed": false
   },
   "outputs": [],
   "source": [
    "def get_change_list(data, rate_types=[\"Open\", \"Close\"]):\n",
    "    \n",
    "    pre_close = None\n",
    "    change_list = []\n",
    "    for o,c in zip(data[rate_types[0]],data[rate_types[1]]):\n",
    "        if pre_close:\n",
    "            change = pre_close - o\n",
    "            change_list.append(change)\n",
    "        else:\n",
    "            change_list.append(None)\n",
    "        pre_close = c\n",
    "    return change_list"
   ]
  },
  {
   "cell_type": "code",
   "execution_count": 90,
   "metadata": {
    "collapsed": true
   },
   "outputs": [],
   "source": [
    "def get_candle_list(data, rate_types=[\"Open\", \"Close\"]):\n",
    "    \n",
    "    change_list = []\n",
    "    for o,c in zip(data[rate_types[0]],data[rate_types[1]]):\n",
    "        change =  np.log(c/o)\n",
    "        change_list.append(change)\n",
    "    return change_list\n"
   ]
  },
  {
   "cell_type": "code",
   "execution_count": 97,
   "metadata": {
    "collapsed": false
   },
   "outputs": [
    {
     "name": "stdout",
     "output_type": "stream",
     "text": [
      "201506\n",
      "201505\n",
      "201504\n",
      "201503\n",
      "201502\n",
      "201501\n",
      "201412\n",
      "201411\n"
     ]
    }
   ],
   "source": [
    "data = ft.read_csv([\n",
    "        \"201506\",\n",
    "        \"201505\",\n",
    "        \"201504\",\n",
    "        \"201503\",\"201502\",\"201501\",\"201412\",\"201411\"\n",
    "    ])"
   ]
  },
  {
   "cell_type": "code",
   "execution_count": 110,
   "metadata": {
    "collapsed": false,
    "scrolled": true
   },
   "outputs": [
    {
     "name": "stderr",
     "output_type": "stream",
     "text": [
      "/usr/local/lib/python3.5/dist-packages/numpy/lib/function_base.py:3834: RuntimeWarning: Invalid value encountered in percentile\n",
      "  RuntimeWarning)\n"
     ]
    },
    {
     "data": {
      "text/html": [
       "<div>\n",
       "<table border=\"1\" class=\"dataframe\">\n",
       "  <thead>\n",
       "    <tr style=\"text-align: right;\">\n",
       "      <th></th>\n",
       "      <th>Open</th>\n",
       "      <th>High</th>\n",
       "      <th>Low</th>\n",
       "      <th>Close</th>\n",
       "      <th>Change(Close)</th>\n",
       "      <th>Change(Open)</th>\n",
       "      <th>Change(Open-Close)</th>\n",
       "    </tr>\n",
       "  </thead>\n",
       "  <tbody>\n",
       "    <tr>\n",
       "      <th>count</th>\n",
       "      <td>4073.000000</td>\n",
       "      <td>4073.000000</td>\n",
       "      <td>4073.000000</td>\n",
       "      <td>4073.000000</td>\n",
       "      <td>4072.000000</td>\n",
       "      <td>4072.000000</td>\n",
       "      <td>4073.000000</td>\n",
       "    </tr>\n",
       "    <tr>\n",
       "      <th>mean</th>\n",
       "      <td>119.657768</td>\n",
       "      <td>119.751837</td>\n",
       "      <td>119.561439</td>\n",
       "      <td>119.661027</td>\n",
       "      <td>0.002320</td>\n",
       "      <td>0.002401</td>\n",
       "      <td>0.000028</td>\n",
       "    </tr>\n",
       "    <tr>\n",
       "      <th>std</th>\n",
       "      <td>2.280178</td>\n",
       "      <td>2.269068</td>\n",
       "      <td>2.290917</td>\n",
       "      <td>2.277999</td>\n",
       "      <td>0.139771</td>\n",
       "      <td>0.140774</td>\n",
       "      <td>0.001164</td>\n",
       "    </tr>\n",
       "    <tr>\n",
       "      <th>min</th>\n",
       "      <td>112.636000</td>\n",
       "      <td>112.724000</td>\n",
       "      <td>112.571000</td>\n",
       "      <td>112.635000</td>\n",
       "      <td>-1.544000</td>\n",
       "      <td>-1.543000</td>\n",
       "      <td>-0.012467</td>\n",
       "    </tr>\n",
       "    <tr>\n",
       "      <th>25%</th>\n",
       "      <td>118.461000</td>\n",
       "      <td>118.566000</td>\n",
       "      <td>118.345000</td>\n",
       "      <td>118.467000</td>\n",
       "      <td>NaN</td>\n",
       "      <td>NaN</td>\n",
       "      <td>-0.000477</td>\n",
       "    </tr>\n",
       "    <tr>\n",
       "      <th>50%</th>\n",
       "      <td>119.518000</td>\n",
       "      <td>119.609000</td>\n",
       "      <td>119.428000</td>\n",
       "      <td>119.519000</td>\n",
       "      <td>NaN</td>\n",
       "      <td>NaN</td>\n",
       "      <td>0.000033</td>\n",
       "    </tr>\n",
       "    <tr>\n",
       "      <th>75%</th>\n",
       "      <td>120.563000</td>\n",
       "      <td>120.663000</td>\n",
       "      <td>120.482000</td>\n",
       "      <td>120.565000</td>\n",
       "      <td>NaN</td>\n",
       "      <td>NaN</td>\n",
       "      <td>0.000547</td>\n",
       "    </tr>\n",
       "    <tr>\n",
       "      <th>max</th>\n",
       "      <td>125.681000</td>\n",
       "      <td>125.852000</td>\n",
       "      <td>125.612000</td>\n",
       "      <td>125.680000</td>\n",
       "      <td>1.331000</td>\n",
       "      <td>1.548000</td>\n",
       "      <td>0.013126</td>\n",
       "    </tr>\n",
       "  </tbody>\n",
       "</table>\n",
       "</div>"
      ],
      "text/plain": [
       "              Open         High          Low        Close  Change(Close)  \\\n",
       "count  4073.000000  4073.000000  4073.000000  4073.000000    4072.000000   \n",
       "mean    119.657768   119.751837   119.561439   119.661027       0.002320   \n",
       "std       2.280178     2.269068     2.290917     2.277999       0.139771   \n",
       "min     112.636000   112.724000   112.571000   112.635000      -1.544000   \n",
       "25%     118.461000   118.566000   118.345000   118.467000            NaN   \n",
       "50%     119.518000   119.609000   119.428000   119.519000            NaN   \n",
       "75%     120.563000   120.663000   120.482000   120.565000            NaN   \n",
       "max     125.681000   125.852000   125.612000   125.680000       1.331000   \n",
       "\n",
       "       Change(Open)  Change(Open-Close)  \n",
       "count   4072.000000         4073.000000  \n",
       "mean       0.002401            0.000028  \n",
       "std        0.140774            0.001164  \n",
       "min       -1.543000           -0.012467  \n",
       "25%             NaN           -0.000477  \n",
       "50%             NaN            0.000033  \n",
       "75%             NaN            0.000547  \n",
       "max        1.548000            0.013126  "
      ]
     },
     "execution_count": 110,
     "metadata": {},
     "output_type": "execute_result"
    }
   ],
   "source": [
    "ohlc = ft.get_ohlc(data, '1H')\n",
    "\n",
    "ohlc[\"Change(Close)\"] =  ohlc[\"Close\"].diff()\n",
    "ohlc[\"Change(Open)\"] = ohlc[\"Open\"].diff()\n",
    "ohlc[\"Change(Open-Close)\"] = get_candle_list(ohlc)\n",
    "\n",
    "ohlc.describe()"
   ]
  },
  {
   "cell_type": "code",
   "execution_count": 111,
   "metadata": {
    "collapsed": false
   },
   "outputs": [
    {
     "data": {
      "text/plain": [
       "<matplotlib.axes._subplots.AxesSubplot at 0x7f8dc0bb8a20>"
      ]
     },
     "execution_count": 111,
     "metadata": {},
     "output_type": "execute_result"
    },
    {
     "data": {
      "image/png": "[encoded data removed]",
      "text/plain": [
       "<matplotlib.figure.Figure at 0x7f8dc0b96f60>"
      ]
     },
     "metadata": {},
     "output_type": "display_data"
    }
   ],
   "source": [
    "ohlc[\"Change(Open-Close)\"].dropna().plot()"
   ]
  },
  {
   "cell_type": "code",
   "execution_count": 112,
   "metadata": {
    "collapsed": false
   },
   "outputs": [
    {
     "name": "stdout",
     "output_type": "stream",
     "text": [
      "1000\n",
      "2000\n",
      "3000\n",
      "4000\n"
     ]
    },
    {
     "data": {
      "text/html": [
       "<div>\n",
       "<table border=\"1\" class=\"dataframe\">\n",
       "  <thead>\n",
       "    <tr style=\"text-align: right;\">\n",
       "      <th></th>\n",
       "      <th>change_positive</th>\n",
       "      <th>change_negative</th>\n",
       "      <th>change_1</th>\n",
       "      <th>change_2</th>\n",
       "      <th>change_3</th>\n",
       "    </tr>\n",
       "  </thead>\n",
       "  <tbody>\n",
       "    <tr>\n",
       "      <th>0</th>\n",
       "      <td>0.0</td>\n",
       "      <td>1.0</td>\n",
       "      <td>-0.000053</td>\n",
       "      <td>0.000222</td>\n",
       "      <td>0.000018</td>\n",
       "    </tr>\n",
       "    <tr>\n",
       "      <th>1</th>\n",
       "      <td>0.0</td>\n",
       "      <td>1.0</td>\n",
       "      <td>-0.000213</td>\n",
       "      <td>-0.000053</td>\n",
       "      <td>0.000222</td>\n",
       "    </tr>\n",
       "    <tr>\n",
       "      <th>2</th>\n",
       "      <td>1.0</td>\n",
       "      <td>0.0</td>\n",
       "      <td>-0.000621</td>\n",
       "      <td>-0.000213</td>\n",
       "      <td>-0.000053</td>\n",
       "    </tr>\n",
       "    <tr>\n",
       "      <th>3</th>\n",
       "      <td>1.0</td>\n",
       "      <td>0.0</td>\n",
       "      <td>0.001216</td>\n",
       "      <td>-0.000621</td>\n",
       "      <td>-0.000213</td>\n",
       "    </tr>\n",
       "    <tr>\n",
       "      <th>4</th>\n",
       "      <td>1.0</td>\n",
       "      <td>0.0</td>\n",
       "      <td>0.000674</td>\n",
       "      <td>0.001216</td>\n",
       "      <td>-0.000621</td>\n",
       "    </tr>\n",
       "  </tbody>\n",
       "</table>\n",
       "</div>"
      ],
      "text/plain": [
       "   change_positive  change_negative  change_1  change_2  change_3\n",
       "0              0.0              1.0 -0.000053  0.000222  0.000018\n",
       "1              0.0              1.0 -0.000213 -0.000053  0.000222\n",
       "2              1.0              0.0 -0.000621 -0.000213 -0.000053\n",
       "3              1.0              0.0  0.001216 -0.000621 -0.000213\n",
       "4              1.0              0.0  0.000674  0.001216 -0.000621"
      ]
     },
     "execution_count": 112,
     "metadata": {},
     "output_type": "execute_result"
    }
   ],
   "source": [
    "ohlc['change_positive'] = 0\n",
    "ohlc.ix[ohlc['Change(Open-Close)'] >= 0, 'change_positive'] = 1\n",
    "ohlc['change_negative'] = 0\n",
    "ohlc.ix[ohlc['Change(Open-Close)'] < 0, 'change_negative'] = 1\n",
    "\n",
    "training_test_data = pd.DataFrame(\n",
    "  columns=[\n",
    "    'change_positive', \n",
    "    'change_negative',\n",
    "    'change_1', \n",
    "    'change_2', \n",
    "    'change_3',\n",
    "    ]\n",
    ")\n",
    "\n",
    "for i in range(7, len(ohlc)):\n",
    "    change_positive = ohlc['change_positive'].ix[i]\n",
    "    change_negative = ohlc['change_negative'].ix[i]\n",
    "    change_1 = ohlc['Change(Open-Close)'].ix[i-1]\n",
    "    change_2 = ohlc['Change(Open-Close)'].ix[i-2]\n",
    "    change_3 = ohlc['Change(Open-Close)'].ix[i-3]\n",
    "    \n",
    "    training_test_data = training_test_data.append(\n",
    "        {\n",
    "            'change_positive': change_positive,\n",
    "            'change_negative': change_negative,\n",
    "            'change_1': change_1,\n",
    "            'change_2': change_2,\n",
    "            'change_3': change_3\n",
    "        },\n",
    "        ignore_index=True\n",
    "    )\n",
    "    if i % 1000 == 0:\n",
    "        print(\"{}\".format(i))\n",
    "\n",
    "training_test_data.head()"
   ]
  },
  {
   "cell_type": "code",
   "execution_count": 114,
   "metadata": {
    "collapsed": false
   },
   "outputs": [
    {
     "data": {
      "text/html": [
       "<div>\n",
       "<table border=\"1\" class=\"dataframe\">\n",
       "  <thead>\n",
       "    <tr style=\"text-align: right;\">\n",
       "      <th></th>\n",
       "      <th>change_1</th>\n",
       "      <th>change_2</th>\n",
       "      <th>change_3</th>\n",
       "    </tr>\n",
       "  </thead>\n",
       "  <tbody>\n",
       "    <tr>\n",
       "      <th>count</th>\n",
       "      <td>3252.000000</td>\n",
       "      <td>3252.000000</td>\n",
       "      <td>3252.000000</td>\n",
       "    </tr>\n",
       "    <tr>\n",
       "      <th>mean</th>\n",
       "      <td>0.000024</td>\n",
       "      <td>0.000024</td>\n",
       "      <td>0.000024</td>\n",
       "    </tr>\n",
       "    <tr>\n",
       "      <th>std</th>\n",
       "      <td>0.001180</td>\n",
       "      <td>0.001180</td>\n",
       "      <td>0.001180</td>\n",
       "    </tr>\n",
       "    <tr>\n",
       "      <th>min</th>\n",
       "      <td>-0.009021</td>\n",
       "      <td>-0.009021</td>\n",
       "      <td>-0.009021</td>\n",
       "    </tr>\n",
       "    <tr>\n",
       "      <th>25%</th>\n",
       "      <td>-0.000497</td>\n",
       "      <td>-0.000497</td>\n",
       "      <td>-0.000496</td>\n",
       "    </tr>\n",
       "    <tr>\n",
       "      <th>50%</th>\n",
       "      <td>0.000025</td>\n",
       "      <td>0.000025</td>\n",
       "      <td>0.000025</td>\n",
       "    </tr>\n",
       "    <tr>\n",
       "      <th>75%</th>\n",
       "      <td>0.000565</td>\n",
       "      <td>0.000565</td>\n",
       "      <td>0.000565</td>\n",
       "    </tr>\n",
       "    <tr>\n",
       "      <th>max</th>\n",
       "      <td>0.013126</td>\n",
       "      <td>0.013126</td>\n",
       "      <td>0.013126</td>\n",
       "    </tr>\n",
       "  </tbody>\n",
       "</table>\n",
       "</div>"
      ],
      "text/plain": [
       "          change_1     change_2     change_3\n",
       "count  3252.000000  3252.000000  3252.000000\n",
       "mean      0.000024     0.000024     0.000024\n",
       "std       0.001180     0.001180     0.001180\n",
       "min      -0.009021    -0.009021    -0.009021\n",
       "25%      -0.000497    -0.000497    -0.000496\n",
       "50%       0.000025     0.000025     0.000025\n",
       "75%       0.000565     0.000565     0.000565\n",
       "max       0.013126     0.013126     0.013126"
      ]
     },
     "execution_count": 114,
     "metadata": {},
     "output_type": "execute_result"
    }
   ],
   "source": [
    "predictors_tf = training_test_data[training_test_data.columns[2:]]\n",
    "\n",
    "classes_tf = training_test_data[training_test_data.columns[:2]]\n",
    "\n",
    "training_set_size = int(len(training_test_data) * 0.8)\n",
    "test_set_size = len(training_test_data) - training_set_size\n",
    "\n",
    "training_predictors_tf = predictors_tf[:training_set_size]\n",
    "training_classes_tf = classes_tf[:training_set_size]\n",
    "\n",
    "test_predictors_tf = predictors_tf[training_set_size:]\n",
    "test_classes_tf = classes_tf[training_set_size:]\n",
    "\n",
    "training_predictors_tf.describe()"
   ]
  },
  {
   "cell_type": "code",
   "execution_count": 115,
   "metadata": {
    "collapsed": false
   },
   "outputs": [
    {
     "name": "stdout",
     "output_type": "stream",
     "text": [
      "num_predictor: 3\n",
      "num_classes: 2\n"
     ]
    }
   ],
   "source": [
    "import tensorflow as tf\n",
    "\n",
    "keep_prob = 1.0\n",
    "hidden_num1 = 50\n",
    "hidden_num2 = 25\n",
    "\n",
    "\n",
    "sess1 = tf.Session()\n",
    "\n",
    "num_predictors = len(training_predictors_tf.columns)\n",
    "num_classes = len(training_classes_tf.columns)\n",
    "print(\"num_predictor: {}\".format( num_predictors))\n",
    "print(\"num_classes: {}\".format( num_classes))\n",
    "\n",
    "feature_data = tf.placeholder(\"float\", [None, num_predictors])\n",
    "actual_classes = tf.placeholder(\"float\", [None, num_classes])\n",
    "\n",
    "weights1 = tf.Variable(tf.truncated_normal([num_predictors, hidden_num1], stddev=0.0001))\n",
    "biases1 = tf.Variable(tf.ones([hidden_num1]))\n",
    "hidden_layer_1 = tf.nn.relu(tf.matmul(feature_data, weights1) + biases1)\n",
    "\n",
    "weights2 = tf.Variable(tf.truncated_normal([hidden_num1, hidden_num2], stddev=0.0001))\n",
    "biases2 = tf.Variable(tf.ones([hidden_num2]))\n",
    "hidden_layer_2 = tf.nn.relu(tf.matmul(hidden_layer_1, weights2) + biases2)\n",
    "\n",
    "dropout = tf.nn.dropout(hidden_layer_2, keep_prob)\n",
    "\n",
    "weights3 = tf.Variable(tf.truncated_normal([hidden_num2, num_classes], stddev=0.0001))\n",
    "biases3 = tf.Variable(tf.ones([num_classes]))\n",
    "model = tf.nn.softmax(tf.matmul(dropout, weights3) + biases3)\n",
    "hidden_num2\n",
    "cost = -tf.reduce_sum(actual_classes*tf.log(model))\n",
    "\n",
    "train_op1 = tf.train.AdamOptimizer(learning_rate=0.0001).minimize(cost)\n",
    "\n",
    "init = tf.initialize_all_variables()\n",
    "sess1.run(init)"
   ]
  },
  {
   "cell_type": "code",
   "execution_count": null,
   "metadata": {
    "collapsed": false
   },
   "outputs": [
    {
     "name": "stdout",
     "output_type": "stream",
     "text": [
      "5000 :0.5138376355171204 : 2252.384765625\n",
      "10000 :0.5138376355171204 : 2250.586669921875\n",
      "15000 :0.5166051387786865 : 2250.256591796875\n",
      "20000 :0.5162976384162903 : 2249.80859375\n",
      "25000 :0.5156826376914978 : 2249.355712890625\n",
      "30000 :0.5172201991081238 : 2248.95361328125\n",
      "35000 :0.5178351998329163 : 2248.720947265625\n",
      "40000 :0.5193727016448975 : 2248.640869140625\n",
      "45000 :0.5184502005577087 : 2248.4404296875\n",
      "50000 :0.5193727016448975 : 2247.960693359375\n",
      "55000 :0.5190652012825012 : 2247.71875\n"
     ]
    }
   ],
   "source": [
    "correct_prediction = tf.equal(tf.argmax(model, 1), tf.argmax(actual_classes, 1))\n",
    "accuracy = tf.reduce_mean(tf.cast(correct_prediction, \"float\"))\n",
    "\n",
    "for i in range(1, 300001):\n",
    "  sess1.run(\n",
    "    train_op1, \n",
    "    feed_dict={\n",
    "      feature_data: training_predictors_tf.values, \n",
    "      actual_classes: training_classes_tf.values.reshape(len(training_classes_tf.values), 2)\n",
    "    }\n",
    "  )\n",
    "  if i%5000 == 0:\n",
    "    accuracy_value, cost_value = sess1.run(\n",
    "      [accuracy,cost],\n",
    "      feed_dict={\n",
    "        feature_data: training_predictors_tf.values, \n",
    "        actual_classes: training_classes_tf.values.reshape(len(training_classes_tf.values), 2)\n",
    "      }\n",
    "    )\n",
    "    print( \"{} :{} : {}\".format(i, accuracy_value, cost_value))"
   ]
  },
  {
   "cell_type": "code",
   "execution_count": null,
   "metadata": {
    "collapsed": true
   },
   "outputs": [],
   "source": []
  }
 ],
 "metadata": {
  "kernelspec": {
   "display_name": "Python 3",
   "language": "python",
   "name": "python3"
  },
  "language_info": {
   "codemirror_mode": {
    "name": "ipython",
    "version": 3
   },
   "file_extension": ".py",
   "mimetype": "text/x-python",
   "name": "python",
   "nbconvert_exporter": "python",
   "pygments_lexer": "ipython3",
   "version": "3.5.1+"
  }
 },
 "nbformat": 4,
 "nbformat_minor": 0
}
